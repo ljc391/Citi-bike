{
 "cells": [
  {
   "cell_type": "markdown",
   "metadata": {},
   "source": [
    "## Data Analysis on CitiBike Data on South Street Station on 2016/09\n",
    "\n"
   ]
  },
  {
   "cell_type": "markdown",
   "metadata": {},
   "source": [
    "### data source: https://s3.amazonaws.com/tripdata/index.html\n",
    "### Author: Elaine Chang"
   ]
  },
  {
   "cell_type": "markdown",
   "metadata": {},
   "source": [
    "---"
   ]
  },
  {
   "cell_type": "markdown",
   "metadata": {},
   "source": [
    "#### Import Packages "
   ]
  },
  {
   "cell_type": "code",
   "execution_count": 1,
   "metadata": {
    "collapsed": false
   },
   "outputs": [
    {
     "name": "stdout",
     "output_type": "stream",
     "text": [
      "Populating the interactive namespace from numpy and matplotlib\n"
     ]
    }
   ],
   "source": [
    "import pylab as pl #plot package\n",
    "import pandas as pd #powerful dataframe package\n",
    "import numpy as np # math package\n",
    "import datetime \n",
    "%pylab inline \n",
    "#magic line to make the plot show \n"
   ]
  },
  {
   "cell_type": "code",
   "execution_count": 2,
   "metadata": {
    "collapsed": false
   },
   "outputs": [
    {
     "data": {
      "text/html": [
       "<div>\n",
       "<table border=\"1\" class=\"dataframe\">\n",
       "  <thead>\n",
       "    <tr style=\"text-align: right;\">\n",
       "      <th></th>\n",
       "      <th>tripduration</th>\n",
       "      <th>starttime</th>\n",
       "      <th>stoptime</th>\n",
       "      <th>start station id</th>\n",
       "      <th>start station name</th>\n",
       "      <th>start station latitude</th>\n",
       "      <th>start station longitude</th>\n",
       "      <th>end station id</th>\n",
       "      <th>end station name</th>\n",
       "      <th>end station latitude</th>\n",
       "      <th>end station longitude</th>\n",
       "      <th>bikeid</th>\n",
       "      <th>usertype</th>\n",
       "      <th>birth year</th>\n",
       "      <th>gender</th>\n",
       "    </tr>\n",
       "  </thead>\n",
       "  <tbody>\n",
       "    <tr>\n",
       "      <th>0</th>\n",
       "      <td>975</td>\n",
       "      <td>9/1/2016 00:00:02</td>\n",
       "      <td>9/1/2016 00:16:18</td>\n",
       "      <td>312</td>\n",
       "      <td>Allen St &amp; Stanton St</td>\n",
       "      <td>40.722055</td>\n",
       "      <td>-73.989111</td>\n",
       "      <td>313</td>\n",
       "      <td>Washington Ave &amp; Park Ave</td>\n",
       "      <td>40.696102</td>\n",
       "      <td>-73.967510</td>\n",
       "      <td>22609</td>\n",
       "      <td>Subscriber</td>\n",
       "      <td>1985.0</td>\n",
       "      <td>1</td>\n",
       "    </tr>\n",
       "    <tr>\n",
       "      <th>1</th>\n",
       "      <td>1220</td>\n",
       "      <td>9/1/2016 00:00:04</td>\n",
       "      <td>9/1/2016 00:20:25</td>\n",
       "      <td>316</td>\n",
       "      <td>Fulton St &amp; William St</td>\n",
       "      <td>40.709560</td>\n",
       "      <td>-74.006536</td>\n",
       "      <td>239</td>\n",
       "      <td>Willoughby St &amp; Fleet St</td>\n",
       "      <td>40.691966</td>\n",
       "      <td>-73.981302</td>\n",
       "      <td>16966</td>\n",
       "      <td>Subscriber</td>\n",
       "      <td>1977.0</td>\n",
       "      <td>2</td>\n",
       "    </tr>\n",
       "    <tr>\n",
       "      <th>2</th>\n",
       "      <td>308</td>\n",
       "      <td>9/1/2016 00:00:19</td>\n",
       "      <td>9/1/2016 00:05:27</td>\n",
       "      <td>479</td>\n",
       "      <td>9 Ave &amp; W 45 St</td>\n",
       "      <td>40.760193</td>\n",
       "      <td>-73.991255</td>\n",
       "      <td>448</td>\n",
       "      <td>W 37 St &amp; 10 Ave</td>\n",
       "      <td>40.756604</td>\n",
       "      <td>-73.997901</td>\n",
       "      <td>25601</td>\n",
       "      <td>Subscriber</td>\n",
       "      <td>1983.0</td>\n",
       "      <td>1</td>\n",
       "    </tr>\n",
       "    <tr>\n",
       "      <th>3</th>\n",
       "      <td>250</td>\n",
       "      <td>9/1/2016 00:00:25</td>\n",
       "      <td>9/1/2016 00:04:35</td>\n",
       "      <td>297</td>\n",
       "      <td>E 15 St &amp; 3 Ave</td>\n",
       "      <td>40.734232</td>\n",
       "      <td>-73.986923</td>\n",
       "      <td>487</td>\n",
       "      <td>E 20 St &amp; FDR Drive</td>\n",
       "      <td>40.733143</td>\n",
       "      <td>-73.975739</td>\n",
       "      <td>22094</td>\n",
       "      <td>Subscriber</td>\n",
       "      <td>1953.0</td>\n",
       "      <td>1</td>\n",
       "    </tr>\n",
       "    <tr>\n",
       "      <th>4</th>\n",
       "      <td>439</td>\n",
       "      <td>9/1/2016 00:00:25</td>\n",
       "      <td>9/1/2016 00:07:45</td>\n",
       "      <td>494</td>\n",
       "      <td>W 26 St &amp; 8 Ave</td>\n",
       "      <td>40.747348</td>\n",
       "      <td>-73.997236</td>\n",
       "      <td>533</td>\n",
       "      <td>Broadway &amp; W 39 St</td>\n",
       "      <td>40.752996</td>\n",
       "      <td>-73.987216</td>\n",
       "      <td>16319</td>\n",
       "      <td>Subscriber</td>\n",
       "      <td>1985.0</td>\n",
       "      <td>1</td>\n",
       "    </tr>\n",
       "  </tbody>\n",
       "</table>\n",
       "</div>"
      ],
      "text/plain": [
       "   tripduration          starttime           stoptime  start station id  \\\n",
       "0           975  9/1/2016 00:00:02  9/1/2016 00:16:18               312   \n",
       "1          1220  9/1/2016 00:00:04  9/1/2016 00:20:25               316   \n",
       "2           308  9/1/2016 00:00:19  9/1/2016 00:05:27               479   \n",
       "3           250  9/1/2016 00:00:25  9/1/2016 00:04:35               297   \n",
       "4           439  9/1/2016 00:00:25  9/1/2016 00:07:45               494   \n",
       "\n",
       "       start station name  start station latitude  start station longitude  \\\n",
       "0   Allen St & Stanton St               40.722055               -73.989111   \n",
       "1  Fulton St & William St               40.709560               -74.006536   \n",
       "2         9 Ave & W 45 St               40.760193               -73.991255   \n",
       "3         E 15 St & 3 Ave               40.734232               -73.986923   \n",
       "4         W 26 St & 8 Ave               40.747348               -73.997236   \n",
       "\n",
       "   end station id           end station name  end station latitude  \\\n",
       "0             313  Washington Ave & Park Ave             40.696102   \n",
       "1             239   Willoughby St & Fleet St             40.691966   \n",
       "2             448           W 37 St & 10 Ave             40.756604   \n",
       "3             487        E 20 St & FDR Drive             40.733143   \n",
       "4             533         Broadway & W 39 St             40.752996   \n",
       "\n",
       "   end station longitude  bikeid    usertype  birth year  gender  \n",
       "0             -73.967510   22609  Subscriber      1985.0       1  \n",
       "1             -73.981302   16966  Subscriber      1977.0       2  \n",
       "2             -73.997901   25601  Subscriber      1983.0       1  \n",
       "3             -73.975739   22094  Subscriber      1953.0       1  \n",
       "4             -73.987216   16319  Subscriber      1985.0       1  "
      ]
     },
     "execution_count": 2,
     "metadata": {},
     "output_type": "execute_result"
    }
   ],
   "source": [
    "data = pd.read_csv(\"201609-citibike-tripdata.csv\")  # Might take few seconds.\n",
    "data.head() \n"
   ]
  },
  {
   "cell_type": "code",
   "execution_count": 3,
   "metadata": {
    "collapsed": false
   },
   "outputs": [
    {
     "name": "stdout",
     "output_type": "stream",
     "text": [
      "<class 'pandas.core.frame.DataFrame'>\n",
      "RangeIndex: 1648856 entries, 0 to 1648855\n",
      "Data columns (total 15 columns):\n",
      "tripduration               1648856 non-null int64\n",
      "starttime                  1648856 non-null object\n",
      "stoptime                   1648856 non-null object\n",
      "start station id           1648856 non-null int64\n",
      "start station name         1648856 non-null object\n",
      "start station latitude     1648856 non-null float64\n",
      "start station longitude    1648856 non-null float64\n",
      "end station id             1648856 non-null int64\n",
      "end station name           1648856 non-null object\n",
      "end station latitude       1648856 non-null float64\n",
      "end station longitude      1648856 non-null float64\n",
      "bikeid                     1648856 non-null int64\n",
      "usertype                   1648856 non-null object\n",
      "birth year                 1433341 non-null float64\n",
      "gender                     1648856 non-null int64\n",
      "dtypes: float64(5), int64(5), object(5)\n",
      "memory usage: 188.7+ MB\n"
     ]
    }
   ],
   "source": [
    "data.info()\n",
    "#get a general idea of the data! More than One Million Trips One Month!"
   ]
  },
  {
   "cell_type": "code",
   "execution_count": 4,
   "metadata": {
    "collapsed": false
   },
   "outputs": [
    {
     "data": {
      "text/html": [
       "<div>\n",
       "<table border=\"1\" class=\"dataframe\">\n",
       "  <thead>\n",
       "    <tr style=\"text-align: right;\">\n",
       "      <th></th>\n",
       "      <th>starttime</th>\n",
       "      <th>start station name</th>\n",
       "    </tr>\n",
       "  </thead>\n",
       "  <tbody>\n",
       "    <tr>\n",
       "      <th>158</th>\n",
       "      <td>9/1/2016 00:15:40</td>\n",
       "      <td>South St &amp; Gouverneur Ln</td>\n",
       "    </tr>\n",
       "    <tr>\n",
       "      <th>1621</th>\n",
       "      <td>9/1/2016 06:40:22</td>\n",
       "      <td>South St &amp; Gouverneur Ln</td>\n",
       "    </tr>\n",
       "    <tr>\n",
       "      <th>1757</th>\n",
       "      <td>9/1/2016 06:46:49</td>\n",
       "      <td>South St &amp; Gouverneur Ln</td>\n",
       "    </tr>\n",
       "    <tr>\n",
       "      <th>2847</th>\n",
       "      <td>9/1/2016 07:40:17</td>\n",
       "      <td>South St &amp; Gouverneur Ln</td>\n",
       "    </tr>\n",
       "    <tr>\n",
       "      <th>4178</th>\n",
       "      <td>9/1/2016 08:20:56</td>\n",
       "      <td>South St &amp; Gouverneur Ln</td>\n",
       "    </tr>\n",
       "    <tr>\n",
       "      <th>4867</th>\n",
       "      <td>9/1/2016 08:34:44</td>\n",
       "      <td>South St &amp; Gouverneur Ln</td>\n",
       "    </tr>\n",
       "    <tr>\n",
       "      <th>5335</th>\n",
       "      <td>9/1/2016 08:43:28</td>\n",
       "      <td>South St &amp; Gouverneur Ln</td>\n",
       "    </tr>\n",
       "    <tr>\n",
       "      <th>5457</th>\n",
       "      <td>9/1/2016 08:45:33</td>\n",
       "      <td>South St &amp; Gouverneur Ln</td>\n",
       "    </tr>\n",
       "    <tr>\n",
       "      <th>6990</th>\n",
       "      <td>9/1/2016 09:41:05</td>\n",
       "      <td>South St &amp; Gouverneur Ln</td>\n",
       "    </tr>\n",
       "    <tr>\n",
       "      <th>7373</th>\n",
       "      <td>9/1/2016 10:02:05</td>\n",
       "      <td>South St &amp; Gouverneur Ln</td>\n",
       "    </tr>\n",
       "  </tbody>\n",
       "</table>\n",
       "</div>"
      ],
      "text/plain": [
       "              starttime        start station name\n",
       "158   9/1/2016 00:15:40  South St & Gouverneur Ln\n",
       "1621  9/1/2016 06:40:22  South St & Gouverneur Ln\n",
       "1757  9/1/2016 06:46:49  South St & Gouverneur Ln\n",
       "2847  9/1/2016 07:40:17  South St & Gouverneur Ln\n",
       "4178  9/1/2016 08:20:56  South St & Gouverneur Ln\n",
       "4867  9/1/2016 08:34:44  South St & Gouverneur Ln\n",
       "5335  9/1/2016 08:43:28  South St & Gouverneur Ln\n",
       "5457  9/1/2016 08:45:33  South St & Gouverneur Ln\n",
       "6990  9/1/2016 09:41:05  South St & Gouverneur Ln\n",
       "7373  9/1/2016 10:02:05  South St & Gouverneur Ln"
      ]
     },
     "execution_count": 4,
     "metadata": {},
     "output_type": "execute_result"
    }
   ],
   "source": [
    "sdata = data[['starttime','start station name']][data['start station name']=='South St & Gouverneur Ln']\n",
    "# separate the data: people who returns the bike and people who rents the bike from same stop.\n",
    "sdata.head(10)"
   ]
  },
  {
   "cell_type": "code",
   "execution_count": 5,
   "metadata": {
    "collapsed": false
   },
   "outputs": [
    {
     "data": {
      "text/html": [
       "<div>\n",
       "<table border=\"1\" class=\"dataframe\">\n",
       "  <thead>\n",
       "    <tr style=\"text-align: right;\">\n",
       "      <th></th>\n",
       "      <th>stoptime</th>\n",
       "      <th>end station name</th>\n",
       "    </tr>\n",
       "  </thead>\n",
       "  <tbody>\n",
       "    <tr>\n",
       "      <th>163</th>\n",
       "      <td>9/1/2016 00:19:07</td>\n",
       "      <td>South End Ave &amp; Liberty St</td>\n",
       "    </tr>\n",
       "    <tr>\n",
       "      <th>261</th>\n",
       "      <td>9/1/2016 00:28:55</td>\n",
       "      <td>South End Ave &amp; Liberty St</td>\n",
       "    </tr>\n",
       "    <tr>\n",
       "      <th>265</th>\n",
       "      <td>9/1/2016 01:02:40</td>\n",
       "      <td>South St &amp; Gouverneur Ln</td>\n",
       "    </tr>\n",
       "    <tr>\n",
       "      <th>268</th>\n",
       "      <td>9/1/2016 00:50:20</td>\n",
       "      <td>South End Ave &amp; Liberty St</td>\n",
       "    </tr>\n",
       "    <tr>\n",
       "      <th>331</th>\n",
       "      <td>9/1/2016 00:47:52</td>\n",
       "      <td>South End Ave &amp; Liberty St</td>\n",
       "    </tr>\n",
       "    <tr>\n",
       "      <th>436</th>\n",
       "      <td>9/1/2016 01:01:31</td>\n",
       "      <td>South End Ave &amp; Liberty St</td>\n",
       "    </tr>\n",
       "    <tr>\n",
       "      <th>437</th>\n",
       "      <td>9/1/2016 01:31:05</td>\n",
       "      <td>South St &amp; Gouverneur Ln</td>\n",
       "    </tr>\n",
       "    <tr>\n",
       "      <th>602</th>\n",
       "      <td>9/1/2016 02:05:12</td>\n",
       "      <td>Pershing Square South</td>\n",
       "    </tr>\n",
       "    <tr>\n",
       "      <th>648</th>\n",
       "      <td>9/1/2016 02:32:38</td>\n",
       "      <td>South End Ave &amp; Liberty St</td>\n",
       "    </tr>\n",
       "    <tr>\n",
       "      <th>686</th>\n",
       "      <td>9/1/2016 04:05:15</td>\n",
       "      <td>South End Ave &amp; Liberty St</td>\n",
       "    </tr>\n",
       "  </tbody>\n",
       "</table>\n",
       "</div>"
      ],
      "text/plain": [
       "              stoptime            end station name\n",
       "163  9/1/2016 00:19:07  South End Ave & Liberty St\n",
       "261  9/1/2016 00:28:55  South End Ave & Liberty St\n",
       "265  9/1/2016 01:02:40    South St & Gouverneur Ln\n",
       "268  9/1/2016 00:50:20  South End Ave & Liberty St\n",
       "331  9/1/2016 00:47:52  South End Ave & Liberty St\n",
       "436  9/1/2016 01:01:31  South End Ave & Liberty St\n",
       "437  9/1/2016 01:31:05    South St & Gouverneur Ln\n",
       "602  9/1/2016 02:05:12       Pershing Square South\n",
       "648  9/1/2016 02:32:38  South End Ave & Liberty St\n",
       "686  9/1/2016 04:05:15  South End Ave & Liberty St"
      ]
     },
     "execution_count": 5,
     "metadata": {},
     "output_type": "execute_result"
    }
   ],
   "source": [
    "ddata = data[['stoptime','end station name']] [data['end station name'].str.contains(\"South\")]\n",
    "ddata.head(10)"
   ]
  },
  {
   "cell_type": "code",
   "execution_count": 10,
   "metadata": {
    "collapsed": false
   },
   "outputs": [
    {
     "data": {
      "text/html": [
       "<div>\n",
       "<table border=\"1\" class=\"dataframe\">\n",
       "  <thead>\n",
       "    <tr style=\"text-align: right;\">\n",
       "      <th></th>\n",
       "      <th>stoptime</th>\n",
       "      <th>end station name</th>\n",
       "    </tr>\n",
       "  </thead>\n",
       "  <tbody>\n",
       "    <tr>\n",
       "      <th>265</th>\n",
       "      <td>9/1/2016 01:02:40</td>\n",
       "      <td>South St &amp; Gouverneur Ln</td>\n",
       "    </tr>\n",
       "    <tr>\n",
       "      <th>437</th>\n",
       "      <td>9/1/2016 01:31:05</td>\n",
       "      <td>South St &amp; Gouverneur Ln</td>\n",
       "    </tr>\n",
       "    <tr>\n",
       "      <th>1302</th>\n",
       "      <td>9/1/2016 06:32:04</td>\n",
       "      <td>South St &amp; Gouverneur Ln</td>\n",
       "    </tr>\n",
       "    <tr>\n",
       "      <th>1403</th>\n",
       "      <td>9/1/2016 06:49:51</td>\n",
       "      <td>South St &amp; Gouverneur Ln</td>\n",
       "    </tr>\n",
       "    <tr>\n",
       "      <th>2953</th>\n",
       "      <td>9/1/2016 08:03:24</td>\n",
       "      <td>South St &amp; Gouverneur Ln</td>\n",
       "    </tr>\n",
       "    <tr>\n",
       "      <th>3071</th>\n",
       "      <td>9/1/2016 08:22:49</td>\n",
       "      <td>South St &amp; Gouverneur Ln</td>\n",
       "    </tr>\n",
       "    <tr>\n",
       "      <th>3137</th>\n",
       "      <td>9/1/2016 08:23:57</td>\n",
       "      <td>South St &amp; Gouverneur Ln</td>\n",
       "    </tr>\n",
       "    <tr>\n",
       "      <th>3255</th>\n",
       "      <td>9/1/2016 08:06:04</td>\n",
       "      <td>South St &amp; Gouverneur Ln</td>\n",
       "    </tr>\n",
       "    <tr>\n",
       "      <th>3429</th>\n",
       "      <td>9/1/2016 08:24:52</td>\n",
       "      <td>South St &amp; Gouverneur Ln</td>\n",
       "    </tr>\n",
       "    <tr>\n",
       "      <th>3546</th>\n",
       "      <td>9/1/2016 08:14:23</td>\n",
       "      <td>South St &amp; Gouverneur Ln</td>\n",
       "    </tr>\n",
       "  </tbody>\n",
       "</table>\n",
       "</div>"
      ],
      "text/plain": [
       "               stoptime          end station name\n",
       "265   9/1/2016 01:02:40  South St & Gouverneur Ln\n",
       "437   9/1/2016 01:31:05  South St & Gouverneur Ln\n",
       "1302  9/1/2016 06:32:04  South St & Gouverneur Ln\n",
       "1403  9/1/2016 06:49:51  South St & Gouverneur Ln\n",
       "2953  9/1/2016 08:03:24  South St & Gouverneur Ln\n",
       "3071  9/1/2016 08:22:49  South St & Gouverneur Ln\n",
       "3137  9/1/2016 08:23:57  South St & Gouverneur Ln\n",
       "3255  9/1/2016 08:06:04  South St & Gouverneur Ln\n",
       "3429  9/1/2016 08:24:52  South St & Gouverneur Ln\n",
       "3546  9/1/2016 08:14:23  South St & Gouverneur Ln"
      ]
     },
     "execution_count": 10,
     "metadata": {},
     "output_type": "execute_result"
    }
   ],
   "source": [
    "edata = data[['stoptime','end station name']] [data['end station name']=='South St & Gouverneur Ln']\n",
    "edata.head(10)"
   ]
  },
  {
   "cell_type": "code",
   "execution_count": 6,
   "metadata": {
    "collapsed": false
   },
   "outputs": [
    {
     "data": {
      "text/html": [
       "<div>\n",
       "<table border=\"1\" class=\"dataframe\">\n",
       "  <thead>\n",
       "    <tr style=\"text-align: right;\">\n",
       "      <th></th>\n",
       "      <th>starttime</th>\n",
       "      <th>start station name</th>\n",
       "    </tr>\n",
       "  </thead>\n",
       "  <tbody>\n",
       "    <tr>\n",
       "      <th>158</th>\n",
       "      <td>00</td>\n",
       "      <td>South St &amp; Gouverneur Ln</td>\n",
       "    </tr>\n",
       "    <tr>\n",
       "      <th>1621</th>\n",
       "      <td>06</td>\n",
       "      <td>South St &amp; Gouverneur Ln</td>\n",
       "    </tr>\n",
       "    <tr>\n",
       "      <th>1757</th>\n",
       "      <td>06</td>\n",
       "      <td>South St &amp; Gouverneur Ln</td>\n",
       "    </tr>\n",
       "    <tr>\n",
       "      <th>2847</th>\n",
       "      <td>07</td>\n",
       "      <td>South St &amp; Gouverneur Ln</td>\n",
       "    </tr>\n",
       "    <tr>\n",
       "      <th>4178</th>\n",
       "      <td>08</td>\n",
       "      <td>South St &amp; Gouverneur Ln</td>\n",
       "    </tr>\n",
       "  </tbody>\n",
       "</table>\n",
       "</div>"
      ],
      "text/plain": [
       "     starttime        start station name\n",
       "158         00  South St & Gouverneur Ln\n",
       "1621        06  South St & Gouverneur Ln\n",
       "1757        06  South St & Gouverneur Ln\n",
       "2847        07  South St & Gouverneur Ln\n",
       "4178        08  South St & Gouverneur Ln"
      ]
     },
     "execution_count": 6,
     "metadata": {},
     "output_type": "execute_result"
    }
   ],
   "source": [
    "sdata.loc[:,'starttime'] = sdata.starttime.astype(\"string\").apply(lambda x: x[-8:-6]) \n",
    "#to extract the starttime on THE HOURS. such as 00,01,02...24\n",
    "sdata.head()"
   ]
  },
  {
   "cell_type": "code",
   "execution_count": 7,
   "metadata": {
    "collapsed": false
   },
   "outputs": [
    {
     "data": {
      "text/html": [
       "<div>\n",
       "<table border=\"1\" class=\"dataframe\">\n",
       "  <thead>\n",
       "    <tr style=\"text-align: right;\">\n",
       "      <th></th>\n",
       "      <th>stoptime</th>\n",
       "      <th>end station name</th>\n",
       "    </tr>\n",
       "  </thead>\n",
       "  <tbody>\n",
       "    <tr>\n",
       "      <th>265</th>\n",
       "      <td>01</td>\n",
       "      <td>South St &amp; Gouverneur Ln</td>\n",
       "    </tr>\n",
       "    <tr>\n",
       "      <th>437</th>\n",
       "      <td>01</td>\n",
       "      <td>South St &amp; Gouverneur Ln</td>\n",
       "    </tr>\n",
       "    <tr>\n",
       "      <th>1302</th>\n",
       "      <td>06</td>\n",
       "      <td>South St &amp; Gouverneur Ln</td>\n",
       "    </tr>\n",
       "    <tr>\n",
       "      <th>1403</th>\n",
       "      <td>06</td>\n",
       "      <td>South St &amp; Gouverneur Ln</td>\n",
       "    </tr>\n",
       "    <tr>\n",
       "      <th>2953</th>\n",
       "      <td>08</td>\n",
       "      <td>South St &amp; Gouverneur Ln</td>\n",
       "    </tr>\n",
       "  </tbody>\n",
       "</table>\n",
       "</div>"
      ],
      "text/plain": [
       "     stoptime          end station name\n",
       "265        01  South St & Gouverneur Ln\n",
       "437        01  South St & Gouverneur Ln\n",
       "1302       06  South St & Gouverneur Ln\n",
       "1403       06  South St & Gouverneur Ln\n",
       "2953       08  South St & Gouverneur Ln"
      ]
     },
     "execution_count": 7,
     "metadata": {},
     "output_type": "execute_result"
    }
   ],
   "source": [
    "edata.loc[:,'stoptime'] = edata.stoptime.astype(\"string\").apply(lambda x: x[-8:-6]) \n",
    "edata.head()"
   ]
  },
  {
   "cell_type": "markdown",
   "metadata": {},
   "source": [
    "#### Groupby "
   ]
  },
  {
   "cell_type": "code",
   "execution_count": 8,
   "metadata": {
    "collapsed": false
   },
   "outputs": [
    {
     "data": {
      "text/plain": [
       "starttime\n",
       "00     21\n",
       "01      1\n",
       "02      2\n",
       "03      1\n",
       "06     59\n",
       "07    107\n",
       "08    304\n",
       "09    180\n",
       "10    161\n",
       "11    141\n",
       "12    200\n",
       "13    165\n",
       "14    234\n",
       "15    247\n",
       "16    325\n",
       "17    689\n",
       "18    436\n",
       "19    239\n",
       "20    129\n",
       "21     53\n",
       "22     30\n",
       "23     29\n",
       "dtype: int64"
      ]
     },
     "execution_count": 8,
     "metadata": {},
     "output_type": "execute_result"
    }
   ],
   "source": [
    "countstart = sdata.groupby('starttime').size() # will have 24 groups !\n",
    "countstart\n"
   ]
  },
  {
   "cell_type": "code",
   "execution_count": 9,
   "metadata": {
    "collapsed": false
   },
   "outputs": [
    {
     "data": {
      "text/plain": [
       "stoptime\n",
       "00     14\n",
       "01      7\n",
       "02      2\n",
       "03      4\n",
       "04      4\n",
       "05      1\n",
       "06     33\n",
       "07    134\n",
       "08    533\n",
       "09    399\n",
       "10    174\n",
       "11    184\n",
       "12    171\n",
       "13    222\n",
       "14    212\n",
       "15    233\n",
       "16    283\n",
       "17    407\n",
       "18    333\n",
       "19    214\n",
       "20     84\n",
       "21     63\n",
       "22     32\n",
       "23     26\n",
       "dtype: int64"
      ]
     },
     "execution_count": 9,
     "metadata": {},
     "output_type": "execute_result"
    }
   ],
   "source": [
    "countend = edata.groupby('stoptime').size()\n",
    "countend"
   ]
  },
  {
   "cell_type": "markdown",
   "metadata": {},
   "source": [
    "### LET'S PLOT!"
   ]
  },
  {
   "cell_type": "code",
   "execution_count": 10,
   "metadata": {
    "collapsed": false
   },
   "outputs": [
    {
     "data": {
      "text/plain": [
       "<matplotlib.legend.Legend at 0x1029e6310>"
      ]
     },
     "execution_count": 10,
     "metadata": {},
     "output_type": "execute_result"
    },
    {
     "data": {
      "image/png": "[encoded data removed]",
      "text/plain": [
       "<matplotlib.figure.Figure at 0x107b91ad0>"
      ]
     },
     "metadata": {},
     "output_type": "display_data"
    }
   ],
   "source": [
    "fig=pl.figure(figsize(10,5))\n",
    "ax =(countstart).plot(kind=\"bar\",color='IndianRed', alpha=0.5)\n",
    "ax =(countend).plot(kind=\"bar\",alpha=0.5, )\n",
    "ax.set_ylabel (\"Number of rides\")\n",
    "ax.set_xlabel (\"Time on Hour\")\n",
    "ax.set_title(\"Frequency of Bike in & out on South Street\")\n",
    "pl.legend(['Bike out','Bike in '],fontsize=10)"
   ]
  },
  {
   "cell_type": "markdown",
   "metadata": {},
   "source": [
    "### From this Graph, we can see that from 08 in the morning, bikes are coming in the most.\n",
    "### Around 15, bikes are leaving the station the most.\n",
    "### Did you find anything interesting?"
   ]
  },
  {
   "cell_type": "markdown",
   "metadata": {},
   "source": [
    "---"
   ]
  },
  {
   "cell_type": "code",
   "execution_count": null,
   "metadata": {
    "collapsed": true
   },
   "outputs": [],
   "source": []
  },
  {
   "cell_type": "code",
   "execution_count": null,
   "metadata": {
    "collapsed": true
   },
   "outputs": [],
   "source": []
  }
 ],
 "metadata": {
  "anaconda-cloud": {},
  "kernelspec": {
   "display_name": "Python [default]",
   "language": "python",
   "name": "python2"
  },
  "language_info": {
   "codemirror_mode": {
    "name": "ipython",
    "version": 2
   },
   "file_extension": ".py",
   "mimetype": "text/x-python",
   "name": "python",
   "nbconvert_exporter": "python",
   "pygments_lexer": "ipython2",
   "version": "2.7.12"
  }
 },
 "nbformat": 4,
 "nbformat_minor": 1
}
